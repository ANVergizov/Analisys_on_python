{
 "cells": [
  {
   "cell_type": "markdown",
   "metadata": {},
   "source": [
    "## Homework"
   ]
  },
  {
   "cell_type": "markdown",
   "metadata": {},
   "source": [
    "1. Написать цикл для выведения на экран каждой буквы своего ФИО."
   ]
  },
  {
   "cell_type": "code",
   "execution_count": 3,
   "metadata": {},
   "outputs": [
    {
     "name": "stdout",
     "output_type": "stream",
     "text": [
      "В\n",
      "е\n",
      "р\n",
      "г\n",
      "и\n",
      "з\n",
      "о\n",
      "в\n",
      "А\n",
      "р\n",
      "с\n",
      "е\n",
      "н\n",
      "и\n",
      "й\n",
      "Н\n",
      "и\n",
      "к\n",
      "о\n",
      "л\n",
      "а\n",
      "е\n",
      "в\n",
      "и\n",
      "ч\n"
     ]
    }
   ],
   "source": [
    "name = \"Вергизов Арсений Николаевич\"\n",
    "for i in name:\n",
    "    if i != \" \":\n",
    "        print(i)"
   ]
  },
  {
   "cell_type": "markdown",
   "metadata": {},
   "source": [
    "2. Написать функцию для перевода доллара в евро c округлением до 2х знаков после запятой, если известно, что текущий курс составляет 1.17 долларов за один евро."
   ]
  },
  {
   "cell_type": "code",
   "execution_count": 16,
   "metadata": {},
   "outputs": [],
   "source": [
    "def euro(a):\n",
    "    euro = round(a * 1.17, 2)\n",
    "    print(euro)\n",
    "    "
   ]
  },
  {
   "cell_type": "code",
   "execution_count": 17,
   "metadata": {},
   "outputs": [
    {
     "name": "stdout",
     "output_type": "stream",
     "text": [
      "Inset num30\n"
     ]
    }
   ],
   "source": [
    "dollor = float(input('Inset num'))"
   ]
  },
  {
   "cell_type": "code",
   "execution_count": 18,
   "metadata": {},
   "outputs": [
    {
     "name": "stdout",
     "output_type": "stream",
     "text": [
      "35.1\n"
     ]
    }
   ],
   "source": [
    "euro(dollor)"
   ]
  },
  {
   "cell_type": "code",
   "execution_count": 26,
   "metadata": {},
   "outputs": [
    {
     "name": "stdout",
     "output_type": "stream",
     "text": [
      "35.1\n"
     ]
    }
   ],
   "source": [
    "c = lambda b: round(b * 1.17, 2)\n",
    "print(c(dollor))"
   ]
  },
  {
   "cell_type": "code",
   "execution_count": null,
   "metadata": {},
   "outputs": [],
   "source": []
  }
 ],
 "metadata": {
  "kernelspec": {
   "display_name": "Python 3",
   "language": "python",
   "name": "python3"
  },
  "language_info": {
   "codemirror_mode": {
    "name": "ipython",
    "version": 3
   },
   "file_extension": ".py",
   "mimetype": "text/x-python",
   "name": "python",
   "nbconvert_exporter": "python",
   "pygments_lexer": "ipython3",
   "version": "3.8.5"
  }
 },
 "nbformat": 4,
 "nbformat_minor": 4
}
